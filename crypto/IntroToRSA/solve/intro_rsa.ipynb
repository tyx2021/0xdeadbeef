{
 "cells": [
  {
   "cell_type": "markdown",
   "id": "f0a697cc",
   "metadata": {},
   "source": [
    "## Public Key Cryptography\n",
    "\n",
    "Public-key cryptography, or asymmetric cryptography, is the field of cryptographic systems that use pairs of related keys. Each key pair consists of a public key and a corresponding private key. \n",
    "\n",
    "Alice and Bob (https://en.wikipedia.org/wiki/Alice_and_Bob) wish to communicate to each other. If public key cryptography is used, \n",
    "- Alice makes her public key public (!)\n",
    "- Bob uses the public key to encrypt a message, and makes it public\n",
    "- Alice uses her private key to decrypt the message"
   ]
  },
  {
   "cell_type": "markdown",
   "id": "24d8370c",
   "metadata": {},
   "source": [
    "## Introduction to Modular Arithmetic\n",
    "\n",
    "Modular arithmetic is fundamental to many cryptosystems. \n",
    "\n",
    "The basics:\n",
    "- $a \\equiv b \\mod{m}$ means $b$ is the remainder when $a$ is divided by $m$. *Technically*, this is not mathematically accurate, but it will be sufficient for our usage.\n",
    "\n",
    "In code `b = a % m`.\n",
    "\n",
    "Operations modulo $m$ work as you would expect:\n",
    "- $a + b \\equiv (a \\mod{m} + b \\mod{m}) \\mod{m}$\n",
    "- $a - b \\equiv (a \\mod{m} - b \\mod{m}) \\mod{m}$\n",
    "- $a \\times b \\equiv (a \\mod{m} \\times b \\mod{m}) \\mod{m}$\n",
    "\n",
    "However, it is important to note \n",
    "- $a^b \\equiv ((a \\mod{m})^{b \\mod{m}}) \\mod{m}$ is **NOT** true.\n",
    "\n",
    "For the first flag, compute `386835537790220127577936902499527543250851211202555995233338 * 50313503711156766604016662939583610038741952181171204555810 + 596808484299118329258465340092273674337121048021617761640165` mod `904721580253114663450019911682764736055857248609678362865691`, and run the code below.\n"
   ]
  },
  {
   "cell_type": "code",
   "execution_count": null,
   "id": "c51f85a8",
   "metadata": {},
   "outputs": [
    {
     "name": "stdout",
     "output_type": "stream",
     "text": [
      "b'deadbeef{m0d_1s_s0_cO0l!}'\n"
     ]
    }
   ],
   "source": [
    "result = (386835537790220127577936902499527543250851211202555995233338 * 50313503711156766604016662939583610038741952181171204555810 + 596808484299118329258465340092273674337121048021617761640165) % 904721580253114663450019911682764736055857248609678362865691  #add your result here\n",
    "print(bytes.fromhex(hex(result)[2:]))\n",
    "#deadbeef{m0d_1s_s0_cO0l!}"
   ]
  },
  {
   "cell_type": "markdown",
   "id": "6bf31303",
   "metadata": {},
   "source": [
    "## Exponentiation\n",
    "\n",
    "It turns out that exponentiation modulo a number $m$ produces very interesting results. Let $m=5$.\n",
    "- $2^0 \\equiv 1 \\mod 5$\n",
    "- $2^1 \\equiv 2 \\mod 5$\n",
    "- $2^2 \\equiv 4 \\mod 5$\n",
    "- $2^3 \\equiv 3 \\mod 5$\n",
    "- $2^4 \\equiv 1 \\mod 5$\n",
    "- $2^5 \\equiv 2 \\mod 5$\n",
    "- $2^6 \\equiv 4 \\mod 5$\n",
    "- $2^7 \\equiv 3 \\mod 5$\n",
    "\n",
    "Notice that this sequence starts to repeat itself!\n",
    "\n",
    "In particular, $2^x$ and $2^{x+4}$ are the same $\\mod 5$, so the sequence repeats every $4$ terms.\n",
    "\n",
    "Let us call this number ($4$), the period. It turns out that for a number $N=pq$ where $p,q$ are primes, the period is always $(p-1)(q-1)$.\n",
    "\n",
    "In RSA, Alice provides a public key $(N,e)$, with $N=pq$. The key is that the prime factorisation of $N$ is unknown to everyone other than Alice.\n",
    "\n",
    "If Bob's message is $m$ (an integer), he will encrypt it by computing $c=m^e \\mod N$.\n",
    "\n",
    "For the second flag, suppose you are Bob and you want to send message `m=41868352775628354742824974459715440283038119398063855198135`. The public key is `N=858172205630122221439397047161706501373758221857650379330999`, `e=65537`.\n",
    "\n",
    "Put the result of your encryption in the next block of code, and run it to get the flag.\n"
   ]
  },
  {
   "cell_type": "code",
   "execution_count": null,
   "id": "919c6eb4",
   "metadata": {},
   "outputs": [
    {
     "name": "stdout",
     "output_type": "stream",
     "text": [
      "b'deadbeef{rSA_p4rT_0N3}'\n"
     ]
    }
   ],
   "source": [
    "N = 858172205630122221439397047161706501373758221857650379330999\n",
    "e = 65537\n",
    "m = 41868352775628354742824974459715440283038119398063855198135\n",
    "res = pow(m, e, N) #Enter your result here\n",
    "print(bytes.fromhex(hex(res)[2:]))\n",
    "# deadbeef{rSA_p4rT_0N3}"
   ]
  },
  {
   "cell_type": "markdown",
   "id": "05d4345d",
   "metadata": {},
   "source": [
    "## Decrypting RSA \n",
    "Suppose you are Alice, and you have obtained the encrypted message $c=m^e \\mod N$. \n",
    "\n",
    "To decrypt, we find a value $d$ such that $ed \\equiv 1 \\mod (p-1)(q-1)$\n",
    "\n",
    "Then, $c^d= m^{ed} \\equiv m \\mod N$ since the period is $(p-1)(q-1)$.\n",
    "\n",
    "To compute this $d$, we can run `d=pow(e, -1, (p-1)*(q-1))`.\n",
    "\n",
    "Bob has encrypted the last flag, using the same values of $N$ and $e$ provided above. Furthermore, you now know that `p = 915958709767114696439882175749` and `q = 936911452971843162639608282251`. You are given the encrypted message, `c = 174406255398503528821188596175716754755036768200544549094082`."
   ]
  },
  {
   "cell_type": "code",
   "execution_count": null,
   "id": "75e79dc5",
   "metadata": {},
   "outputs": [
    {
     "name": "stdout",
     "output_type": "stream",
     "text": [
      "b'deadbeef{rS4_4aRT_d0S}'\n"
     ]
    }
   ],
   "source": [
    "N = 858172205630122221439397047161706501373758221857650379330999\n",
    "e = 65537\n",
    "p = 915958709767114696439882175749\n",
    "q = 936911452971843162639608282251\n",
    "c = 774571685908445184649950285391008291752868215357341293858375\n",
    "m = 69420 #enter your value of m here\n",
    "d = pow(e, -1, (p - 1) * (q - 1))\n",
    "m = pow(c, d, N)\n",
    "print(bytes.fromhex(hex(m)[2:]))\n",
    "#deadbeef{rS4_4aRT_d0S}"
   ]
  }
 ],
 "metadata": {
  "kernelspec": {
   "display_name": "Python 3",
   "language": "python",
   "name": "python3"
  },
  "language_info": {
   "codemirror_mode": {
    "name": "ipython",
    "version": 3
   },
   "file_extension": ".py",
   "mimetype": "text/x-python",
   "name": "python",
   "nbconvert_exporter": "python",
   "pygments_lexer": "ipython3",
   "version": "3.10.12"
  }
 },
 "nbformat": 4,
 "nbformat_minor": 5
}
